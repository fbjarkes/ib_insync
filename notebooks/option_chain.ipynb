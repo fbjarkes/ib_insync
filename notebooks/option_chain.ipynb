{
 "cells": [
  {
   "cell_type": "markdown",
   "metadata": {},
   "source": [
    "Option chains\n",
    "======="
   ]
  },
  {
   "cell_type": "code",
   "execution_count": 1,
   "metadata": {
    "scrolled": true
   },
   "outputs": [],
   "source": [
    "from ib_insync import *\n",
    "util.startLoop()\n",
    "\n",
    "ib = IB()\n",
    "ib.connect('127.0.0.1', 7497, clientId=12)"
   ]
  },
  {
   "cell_type": "markdown",
   "metadata": {},
   "source": [
    "Suppose we want to find the options on the SPY. There are two ways to do that:\n",
    "* The old way by requesting contract details\n",
    "* The new and faster way\n",
    "\n",
    "So first the old way. It starts with an ambiguous Option contract and uses that\n",
    "as a wildcard to get the details of all contracts that match:\n",
    "\n",
    "** This will take a while **"
   ]
  },
  {
   "cell_type": "code",
   "execution_count": 2,
   "metadata": {},
   "outputs": [
    {
     "name": "stdout",
     "output_type": "stream",
     "text": [
      "4752\n"
     ]
    },
    {
     "data": {
      "text/plain": [
       "Contract(conId=178534720, symbol='SPY', secType='OPT', lastTradeDateOrContractMonth='20171215', strike=165.0, right='P', multiplier='100', exchange='SMART', currency='USD', localSymbol='SPY   171215P00165000', tradingClass='SPY')"
      ]
     },
     "execution_count": 2,
     "metadata": {},
     "output_type": "execute_result"
    }
   ],
   "source": [
    "option = Option('SPY', exchange='SMART')\n",
    "cds = ib.reqContractDetails(option)\n",
    "\n",
    "contracts = [cd.summary for cd in cds]\n",
    "\n",
    "print(len(contracts))\n",
    "contracts[0]"
   ]
  },
  {
   "cell_type": "markdown",
   "metadata": {},
   "source": [
    "So that's a few thousand contracts. Let's put in some restrictions to get this number down:\n",
    "\n",
    "* Use only the first 3 expirations after today that are on a Friday\n",
    "* Use only strike prices within +- 20 dollar of the current SPY market price\n",
    "* Use only strike prices that are a multitude of 5 dollar\n",
    "\n",
    "For the first restriction the expirations are filtered with an isFriday method,\n",
    "made unique with set(), then sorted and finally the first 3 taken:"
   ]
  },
  {
   "cell_type": "code",
   "execution_count": 3,
   "metadata": {},
   "outputs": [
    {
     "data": {
      "text/plain": [
       "['20170811', '20170818', '20170825']"
      ]
     },
     "execution_count": 3,
     "metadata": {},
     "output_type": "execute_result"
    }
   ],
   "source": [
    "import datetime\n",
    "\n",
    "def isFriday(date):\n",
    "    y = int(date[0:4])\n",
    "    m = int(date[4:6])\n",
    "    d = int(date[6:8])\n",
    "    dd = datetime.date(y, m, d)\n",
    "    return dd.weekday() == 4 and dd > datetime.date.today()\n",
    "\n",
    "expirations = sorted(set(c.lastTradeDateOrContractMonth for c in contracts\n",
    "            if isFriday(c.lastTradeDateOrContractMonth)))[:3]\n",
    "\n",
    "expirations"
   ]
  },
  {
   "cell_type": "markdown",
   "metadata": {},
   "source": [
    "Hmmm... perhaps we could have just taken the next three Fridays?\n",
    "But the number of contracts is going down nicely:"
   ]
  },
  {
   "cell_type": "code",
   "execution_count": 4,
   "metadata": {},
   "outputs": [
    {
     "name": "stdout",
     "output_type": "stream",
     "text": [
      "718\n"
     ]
    }
   ],
   "source": [
    "contracts = [c for c in contracts if c.lastTradeDateOrContractMonth in expirations]\n",
    "\n",
    "print(len(contracts))"
   ]
  },
  {
   "cell_type": "markdown",
   "metadata": {},
   "source": [
    "To get the current price, first create the SPY contract:"
   ]
  },
  {
   "cell_type": "code",
   "execution_count": 5,
   "metadata": {},
   "outputs": [
    {
     "data": {
      "text/plain": [
       "[Stock(conId=756733, symbol='SPY', exchange='ARCA', primaryExchange='ARCA', currency='USD', localSymbol='SPY', tradingClass='SPY')]"
      ]
     },
     "execution_count": 5,
     "metadata": {},
     "output_type": "execute_result"
    }
   ],
   "source": [
    "spy = Stock('SPY', 'ARCA')\n",
    "\n",
    "ib.qualifyContracts(spy)"
   ]
  },
  {
   "cell_type": "markdown",
   "metadata": {},
   "source": [
    "Then get the ticker. Requesting a ticker can take up to 11 seconds."
   ]
  },
  {
   "cell_type": "code",
   "execution_count": 6,
   "metadata": {},
   "outputs": [
    {
     "data": {
      "text/plain": [
       "Ticker(contract=Stock(conId=756733, symbol='SPY', exchange='ARCA', primaryExchange='ARCA', currency='USD', localSymbol='SPY', tradingClass='SPY'), time=datetime.datetime(2017, 8, 7, 11, 8, 21, 16336, tzinfo=datetime.timezone.utc), bid=247.48, bidSize=2, ask=247.52, askSize=41, last=247.51, lastSize=25, close=247.41)"
      ]
     },
     "execution_count": 6,
     "metadata": {},
     "output_type": "execute_result"
    }
   ],
   "source": [
    "[ticker] = ib.reqTickers(spy)\n",
    "\n",
    "ticker"
   ]
  },
  {
   "cell_type": "markdown",
   "metadata": {},
   "source": [
    "Apply the final two restrictions:"
   ]
  },
  {
   "cell_type": "code",
   "execution_count": 7,
   "metadata": {},
   "outputs": [
    {
     "name": "stdout",
     "output_type": "stream",
     "text": [
      "48\n",
      "Contract(conId=273806493, symbol='SPY', secType='OPT', lastTradeDateOrContractMonth='20170818', strike=230.0, right='C', multiplier='100', exchange='SMART', currency='USD', localSymbol='SPY   170818C00230000', tradingClass='SPY')\n"
     ]
    }
   ],
   "source": [
    "spyPrice = ticker.marketPrice()\n",
    "\n",
    "contracts = [c for c in contracts if\n",
    "        spyPrice - 20 < c.strike < spyPrice + 20 and\n",
    "        c.strike % 5 == 0]\n",
    "\n",
    "print(len(contracts))\n",
    "print(contracts[0])\n",
    "\n",
    "oldContracts = contracts  # remember for later"
   ]
  },
  {
   "cell_type": "markdown",
   "metadata": {},
   "source": [
    "Finally we have a list of usable option contracts.\n",
    "\n",
    "Okay so now the new and faster way:"
   ]
  },
  {
   "cell_type": "code",
   "execution_count": 8,
   "metadata": {},
   "outputs": [
    {
     "data": {
      "text/html": [
       "<div>\n",
       "<style>\n",
       "    .dataframe thead tr:only-child th {\n",
       "        text-align: right;\n",
       "    }\n",
       "\n",
       "    .dataframe thead th {\n",
       "        text-align: left;\n",
       "    }\n",
       "\n",
       "    .dataframe tbody tr th {\n",
       "        vertical-align: top;\n",
       "    }\n",
       "</style>\n",
       "<table border=\"1\" class=\"dataframe\">\n",
       "  <thead>\n",
       "    <tr style=\"text-align: right;\">\n",
       "      <th></th>\n",
       "      <th>exchange</th>\n",
       "      <th>underlyingConId</th>\n",
       "      <th>tradingClass</th>\n",
       "      <th>multiplier</th>\n",
       "      <th>expirations</th>\n",
       "      <th>strikes</th>\n",
       "    </tr>\n",
       "  </thead>\n",
       "  <tbody>\n",
       "    <tr>\n",
       "      <th>0</th>\n",
       "      <td>NASDAQOM</td>\n",
       "      <td>756733</td>\n",
       "      <td>SPY</td>\n",
       "      <td>100</td>\n",
       "      <td>{20170915, 20170830, 20171215, 20170906, 20170...</td>\n",
       "      <td>{10.0, 15.0, 20.0, 232.5, 245.5, 25.0, 30.0, 3...</td>\n",
       "    </tr>\n",
       "    <tr>\n",
       "      <th>1</th>\n",
       "      <td>PSE</td>\n",
       "      <td>756733</td>\n",
       "      <td>SPY</td>\n",
       "      <td>100</td>\n",
       "      <td>{20170915, 20170830, 20171215, 20170906, 20170...</td>\n",
       "      <td>{10.0, 15.0, 20.0, 232.5, 245.5, 25.0, 30.0, 3...</td>\n",
       "    </tr>\n",
       "    <tr>\n",
       "      <th>2</th>\n",
       "      <td>BATS</td>\n",
       "      <td>756733</td>\n",
       "      <td>SPY</td>\n",
       "      <td>100</td>\n",
       "      <td>{20170915, 20170830, 20171215, 20170906, 20170...</td>\n",
       "      <td>{10.0, 15.0, 20.0, 232.5, 245.5, 25.0, 30.0, 3...</td>\n",
       "    </tr>\n",
       "    <tr>\n",
       "      <th>3</th>\n",
       "      <td>AMEX</td>\n",
       "      <td>756733</td>\n",
       "      <td>SPY</td>\n",
       "      <td>100</td>\n",
       "      <td>{20170915, 20170830, 20171215, 20170906, 20170...</td>\n",
       "      <td>{10.0, 15.0, 20.0, 232.5, 245.5, 25.0, 30.0, 3...</td>\n",
       "    </tr>\n",
       "    <tr>\n",
       "      <th>4</th>\n",
       "      <td>PEARL</td>\n",
       "      <td>756733</td>\n",
       "      <td>SPY</td>\n",
       "      <td>100</td>\n",
       "      <td>{20170915, 20170830, 20171215, 20170906, 20170...</td>\n",
       "      <td>{10.0, 15.0, 20.0, 232.5, 245.5, 25.0, 30.0, 3...</td>\n",
       "    </tr>\n",
       "    <tr>\n",
       "      <th>5</th>\n",
       "      <td>NASDAQBX</td>\n",
       "      <td>756733</td>\n",
       "      <td>SPY</td>\n",
       "      <td>100</td>\n",
       "      <td>{20170915, 20170830, 20171215, 20170906, 20170...</td>\n",
       "      <td>{10.0, 15.0, 20.0, 232.5, 245.5, 25.0, 30.0, 3...</td>\n",
       "    </tr>\n",
       "    <tr>\n",
       "      <th>6</th>\n",
       "      <td>ISE</td>\n",
       "      <td>756733</td>\n",
       "      <td>SPY</td>\n",
       "      <td>100</td>\n",
       "      <td>{20170915, 20170830, 20171215, 20170906, 20170...</td>\n",
       "      <td>{10.0, 15.0, 20.0, 232.5, 245.5, 25.0, 30.0, 3...</td>\n",
       "    </tr>\n",
       "    <tr>\n",
       "      <th>7</th>\n",
       "      <td>MIAX</td>\n",
       "      <td>756733</td>\n",
       "      <td>SPY</td>\n",
       "      <td>100</td>\n",
       "      <td>{20170915, 20170830, 20171215, 20170906, 20170...</td>\n",
       "      <td>{10.0, 15.0, 20.0, 232.5, 245.5, 25.0, 30.0, 3...</td>\n",
       "    </tr>\n",
       "    <tr>\n",
       "      <th>8</th>\n",
       "      <td>SMART</td>\n",
       "      <td>756733</td>\n",
       "      <td>SPY</td>\n",
       "      <td>100</td>\n",
       "      <td>{20170915, 20170830, 20171215, 20170906, 20170...</td>\n",
       "      <td>{10.0, 15.0, 20.0, 232.5, 245.5, 25.0, 30.0, 3...</td>\n",
       "    </tr>\n",
       "    <tr>\n",
       "      <th>9</th>\n",
       "      <td>CBOE</td>\n",
       "      <td>756733</td>\n",
       "      <td>SPY</td>\n",
       "      <td>100</td>\n",
       "      <td>{20170915, 20170830, 20171215, 20170906, 20170...</td>\n",
       "      <td>{10.0, 15.0, 20.0, 232.5, 245.5, 25.0, 30.0, 3...</td>\n",
       "    </tr>\n",
       "    <tr>\n",
       "      <th>10</th>\n",
       "      <td>MERCURY</td>\n",
       "      <td>756733</td>\n",
       "      <td>SPY</td>\n",
       "      <td>100</td>\n",
       "      <td>{20170915, 20170830, 20171215, 20170906, 20170...</td>\n",
       "      <td>{10.0, 15.0, 20.0, 232.5, 245.5, 25.0, 30.0, 3...</td>\n",
       "    </tr>\n",
       "    <tr>\n",
       "      <th>11</th>\n",
       "      <td>EDGX</td>\n",
       "      <td>756733</td>\n",
       "      <td>SPY</td>\n",
       "      <td>100</td>\n",
       "      <td>{20170915, 20170830, 20171215, 20170906, 20170...</td>\n",
       "      <td>{10.0, 15.0, 20.0, 232.5, 245.5, 25.0, 30.0, 3...</td>\n",
       "    </tr>\n",
       "    <tr>\n",
       "      <th>12</th>\n",
       "      <td>GEMINI</td>\n",
       "      <td>756733</td>\n",
       "      <td>SPY</td>\n",
       "      <td>100</td>\n",
       "      <td>{20170915, 20170830, 20171215, 20170906, 20170...</td>\n",
       "      <td>{10.0, 15.0, 20.0, 232.5, 245.5, 25.0, 30.0, 3...</td>\n",
       "    </tr>\n",
       "    <tr>\n",
       "      <th>13</th>\n",
       "      <td>BOX</td>\n",
       "      <td>756733</td>\n",
       "      <td>SPY</td>\n",
       "      <td>100</td>\n",
       "      <td>{20170915, 20170830, 20171215, 20170906, 20170...</td>\n",
       "      <td>{10.0, 15.0, 20.0, 232.5, 245.5, 25.0, 30.0, 3...</td>\n",
       "    </tr>\n",
       "    <tr>\n",
       "      <th>14</th>\n",
       "      <td>CBOE2</td>\n",
       "      <td>756733</td>\n",
       "      <td>SPY</td>\n",
       "      <td>100</td>\n",
       "      <td>{20170915, 20170830, 20171215, 20170906, 20170...</td>\n",
       "      <td>{10.0, 15.0, 20.0, 232.5, 245.5, 25.0, 30.0, 3...</td>\n",
       "    </tr>\n",
       "    <tr>\n",
       "      <th>15</th>\n",
       "      <td>PHLX</td>\n",
       "      <td>756733</td>\n",
       "      <td>SPY</td>\n",
       "      <td>100</td>\n",
       "      <td>{20170915, 20170830, 20171215, 20170906, 20170...</td>\n",
       "      <td>{10.0, 15.0, 20.0, 232.5, 245.5, 25.0, 30.0, 3...</td>\n",
       "    </tr>\n",
       "  </tbody>\n",
       "</table>\n",
       "</div>"
      ],
      "text/plain": [
       "    exchange  underlyingConId tradingClass multiplier  \\\n",
       "0   NASDAQOM           756733          SPY        100   \n",
       "1        PSE           756733          SPY        100   \n",
       "2       BATS           756733          SPY        100   \n",
       "3       AMEX           756733          SPY        100   \n",
       "4      PEARL           756733          SPY        100   \n",
       "5   NASDAQBX           756733          SPY        100   \n",
       "6        ISE           756733          SPY        100   \n",
       "7       MIAX           756733          SPY        100   \n",
       "8      SMART           756733          SPY        100   \n",
       "9       CBOE           756733          SPY        100   \n",
       "10   MERCURY           756733          SPY        100   \n",
       "11      EDGX           756733          SPY        100   \n",
       "12    GEMINI           756733          SPY        100   \n",
       "13       BOX           756733          SPY        100   \n",
       "14     CBOE2           756733          SPY        100   \n",
       "15      PHLX           756733          SPY        100   \n",
       "\n",
       "                                          expirations  \\\n",
       "0   {20170915, 20170830, 20171215, 20170906, 20170...   \n",
       "1   {20170915, 20170830, 20171215, 20170906, 20170...   \n",
       "2   {20170915, 20170830, 20171215, 20170906, 20170...   \n",
       "3   {20170915, 20170830, 20171215, 20170906, 20170...   \n",
       "4   {20170915, 20170830, 20171215, 20170906, 20170...   \n",
       "5   {20170915, 20170830, 20171215, 20170906, 20170...   \n",
       "6   {20170915, 20170830, 20171215, 20170906, 20170...   \n",
       "7   {20170915, 20170830, 20171215, 20170906, 20170...   \n",
       "8   {20170915, 20170830, 20171215, 20170906, 20170...   \n",
       "9   {20170915, 20170830, 20171215, 20170906, 20170...   \n",
       "10  {20170915, 20170830, 20171215, 20170906, 20170...   \n",
       "11  {20170915, 20170830, 20171215, 20170906, 20170...   \n",
       "12  {20170915, 20170830, 20171215, 20170906, 20170...   \n",
       "13  {20170915, 20170830, 20171215, 20170906, 20170...   \n",
       "14  {20170915, 20170830, 20171215, 20170906, 20170...   \n",
       "15  {20170915, 20170830, 20171215, 20170906, 20170...   \n",
       "\n",
       "                                              strikes  \n",
       "0   {10.0, 15.0, 20.0, 232.5, 245.5, 25.0, 30.0, 3...  \n",
       "1   {10.0, 15.0, 20.0, 232.5, 245.5, 25.0, 30.0, 3...  \n",
       "2   {10.0, 15.0, 20.0, 232.5, 245.5, 25.0, 30.0, 3...  \n",
       "3   {10.0, 15.0, 20.0, 232.5, 245.5, 25.0, 30.0, 3...  \n",
       "4   {10.0, 15.0, 20.0, 232.5, 245.5, 25.0, 30.0, 3...  \n",
       "5   {10.0, 15.0, 20.0, 232.5, 245.5, 25.0, 30.0, 3...  \n",
       "6   {10.0, 15.0, 20.0, 232.5, 245.5, 25.0, 30.0, 3...  \n",
       "7   {10.0, 15.0, 20.0, 232.5, 245.5, 25.0, 30.0, 3...  \n",
       "8   {10.0, 15.0, 20.0, 232.5, 245.5, 25.0, 30.0, 3...  \n",
       "9   {10.0, 15.0, 20.0, 232.5, 245.5, 25.0, 30.0, 3...  \n",
       "10  {10.0, 15.0, 20.0, 232.5, 245.5, 25.0, 30.0, 3...  \n",
       "11  {10.0, 15.0, 20.0, 232.5, 245.5, 25.0, 30.0, 3...  \n",
       "12  {10.0, 15.0, 20.0, 232.5, 245.5, 25.0, 30.0, 3...  \n",
       "13  {10.0, 15.0, 20.0, 232.5, 245.5, 25.0, 30.0, 3...  \n",
       "14  {10.0, 15.0, 20.0, 232.5, 245.5, 25.0, 30.0, 3...  \n",
       "15  {10.0, 15.0, 20.0, 232.5, 245.5, 25.0, 30.0, 3...  "
      ]
     },
     "execution_count": 8,
     "metadata": {},
     "output_type": "execute_result"
    }
   ],
   "source": [
    "chains = ib.reqSecDefOptParams(spy.symbol, '', spy.secType, spy.conId)\n",
    "\n",
    "util.df(chains)"
   ]
  },
  {
   "cell_type": "markdown",
   "metadata": {},
   "source": [
    "We want the options that trade on SMART:"
   ]
  },
  {
   "cell_type": "code",
   "execution_count": 9,
   "metadata": {},
   "outputs": [
    {
     "data": {
      "text/plain": [
       "OptionChain(exchange='SMART', underlyingConId=756733, tradingClass='SPY', multiplier='100', expirations={'20170915', '20170830', '20171215', '20170906', '20170818', '20170908', '20170929', '20190315', '20170816', '20180119', '20171117', '20171229', '20180329', '20181221', '20170823', '20191220', '20180720', '20170922', '20190118', '20180615', '20180629', '20171020', '20170901', '20170809', '20180921', '20170825', '20180316', '20190621', '20170811'}, strikes={10.0, 15.0, 20.0, 232.5, 245.5, 25.0, 30.0, 35.0, 254.5, 40.0, 45.0, 246.5, 50.0, 55.0, 60.0, 65.0, 70.0, 247.5, 75.0, 80.0, 85.0, 253.5, 90.0, 95.0, 248.5, 250.5, 249.5, 100.0, 101.0, 102.0, 103.0, 104.0, 105.0, 106.0, 107.0, 108.0, 109.0, 110.0, 111.0, 112.0, 113.0, 114.0, 115.0, 116.0, 117.0, 118.0, 119.0, 120.0, 121.0, 122.0, 123.0, 124.0, 125.0, 126.0, 127.0, 128.0, 129.0, 130.0, 131.0, 132.0, 133.0, 134.0, 135.0, 136.0, 137.0, 138.0, 139.0, 140.0, 141.0, 142.0, 143.0, 144.0, 145.0, 146.0, 147.0, 148.0, 149.0, 150.0, 151.0, 152.0, 153.0, 154.0, 155.0, 156.0, 157.0, 158.0, 159.0, 160.0, 161.0, 162.0, 163.0, 164.0, 165.0, 166.0, 167.0, 168.0, 169.0, 170.0, 171.0, 172.0, 173.0, 174.0, 175.0, 176.0, 177.0, 178.0, 179.0, 180.0, 181.0, 182.0, 183.0, 184.0, 185.0, 186.0, 187.0, 188.0, 189.0, 190.0, 191.0, 192.0, 193.0, 194.0, 195.0, 196.0, 197.0, 198.0, 199.0, 200.0, 201.0, 202.0, 203.0, 204.0, 205.0, 206.0, 207.0, 207.5, 208.0, 209.0, 210.0, 211.0, 212.0, 212.5, 213.0, 214.0, 215.0, 216.0, 217.0, 217.5, 218.0, 219.0, 220.0, 221.0, 222.0, 222.5, 223.0, 223.5, 224.0, 224.5, 225.0, 225.5, 226.0, 226.5, 227.0, 227.5, 228.0, 229.0, 230.0, 231.0, 232.0, 233.0, 234.0, 235.0, 236.0, 237.0, 238.0, 239.0, 240.0, 241.0, 242.0, 243.0, 244.0, 245.0, 246.0, 247.0, 248.0, 249.0, 250.0, 251.0, 252.0, 253.0, 254.0, 255.0, 256.0, 257.0, 258.0, 259.0, 260.0, 257.5, 262.0, 263.0, 264.0, 265.0, 266.0, 267.0, 268.0, 269.0, 270.0, 271.0, 272.0, 273.0, 274.0, 235.5, 276.0, 277.0, 278.0, 279.0, 280.0, 261.0, 282.0, 283.0, 284.0, 285.0, 262.5, 290.0, 295.0, 300.0, 305.0, 236.5, 310.0, 315.0, 267.5, 320.0, 325.0, 330.0, 237.5, 335.0, 340.0, 272.5, 345.0, 251.5, 350.0, 238.5, 275.0, 277.5, 239.5, 281.0, 282.5, 240.5, 241.5, 242.5, 252.5, 243.5, 244.5})"
      ]
     },
     "execution_count": 9,
     "metadata": {},
     "output_type": "execute_result"
    }
   ],
   "source": [
    "chain = next(c for c in chains if c.exchange == 'SMART')\n",
    "chain"
   ]
  },
  {
   "cell_type": "markdown",
   "metadata": {},
   "source": [
    "What we have here is a matrix of expirations x strikes. From this we can build all the contracts:"
   ]
  },
  {
   "cell_type": "code",
   "execution_count": 10,
   "metadata": {},
   "outputs": [
    {
     "name": "stdout",
     "output_type": "stream",
     "text": [
      "48\n",
      "\n",
      "Option(conId=281064312, symbol='SPY', lastTradeDateOrContractMonth='20170811', strike=230.0, right='P', multiplier='100', exchange='SMART', currency='USD', localSymbol='SPY   170811P00230000', tradingClass='SPY')\n"
     ]
    }
   ],
   "source": [
    "strikes = [strike for strike in chain.strikes if\n",
    "        strike % 5 == 0 and\n",
    "        spyPrice - 20 < strike < spyPrice + 20]\n",
    "expirations = sorted(exp for exp in chain.expirations if isFriday(exp))[:3]\n",
    "rights = ['P', 'C']\n",
    "\n",
    "contracts = [Option('SPY', expiration, strike, right, 'SMART')\n",
    "        for right in rights for expiration in expirations for strike in strikes]\n",
    "\n",
    "ib.qualifyContracts(*contracts)\n",
    "\n",
    "print(len(contracts))\n",
    "print()\n",
    "print(contracts[0])"
   ]
  },
  {
   "cell_type": "markdown",
   "metadata": {},
   "source": [
    "Let's see if the new way ends up with the same contracts as the old way:"
   ]
  },
  {
   "cell_type": "code",
   "execution_count": 11,
   "metadata": {},
   "outputs": [
    {
     "data": {
      "text/plain": [
       "True"
      ]
     },
     "execution_count": 11,
     "metadata": {},
     "output_type": "execute_result"
    }
   ],
   "source": [
    "set(contracts) == set(oldContracts)"
   ]
  },
  {
   "cell_type": "markdown",
   "metadata": {},
   "source": [
    "Yep. Now to get the market data for all options in one go:"
   ]
  },
  {
   "cell_type": "code",
   "execution_count": 12,
   "metadata": {},
   "outputs": [
    {
     "data": {
      "text/plain": [
       "Ticker(contract=Option(conId=281064312, symbol='SPY', lastTradeDateOrContractMonth='20170811', strike=230.0, right='P', multiplier='100', exchange='SMART', currency='USD', localSymbol='SPY   170811P00230000', tradingClass='SPY'), time=datetime.datetime(2017, 8, 7, 11, 8, 35, 3975, tzinfo=datetime.timezone.utc), bid=-1.0, bidSize=0, ask=-1.0, askSize=0, close=0.04, modelGreeks=OptionComputation(impliedVol=0.10301014991310896, delta=-5.711513407694938e-12, optPrice=2.3685138096782706e-12, pvDividend=0.0, gamma=1.3636428453469083e-11, vega=2.0545091910513447e-10, theta=-2.3685138096782706e-12, undPrice=247.51000000000002))"
      ]
     },
     "execution_count": 12,
     "metadata": {},
     "output_type": "execute_result"
    }
   ],
   "source": [
    "tickers = ib.reqTickers(*contracts)\n",
    "\n",
    "tickers[0]"
   ]
  },
  {
   "cell_type": "markdown",
   "metadata": {},
   "source": [
    "The option greeks are available from the ``modelGreeks`` attribute, and if there is a bid, ask resp. last price available also from ``bidGreeks``, ``askGreeks`` and ``lastGreeks``. For streaming ticks the greek values will be kept up to date to the current market situation."
   ]
  },
  {
   "cell_type": "code",
   "execution_count": null,
   "metadata": {
    "collapsed": true
   },
   "outputs": [],
   "source": []
  }
 ],
 "metadata": {
  "kernelspec": {
   "display_name": "Python 3",
   "language": "python",
   "name": "python3"
  },
  "language_info": {
   "codemirror_mode": {
    "name": "ipython",
    "version": 3
   },
   "file_extension": ".py",
   "mimetype": "text/x-python",
   "name": "python",
   "nbconvert_exporter": "python",
   "pygments_lexer": "ipython3",
   "version": "3.6.2"
  }
 },
 "nbformat": 4,
 "nbformat_minor": 2
}
