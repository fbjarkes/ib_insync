{
 "cells": [
  {
   "cell_type": "markdown",
   "metadata": {},
   "source": [
    "Market depth (order book)\n",
    "=============="
   ]
  },
  {
   "cell_type": "code",
   "execution_count": 1,
   "metadata": {},
   "outputs": [],
   "source": [
    "from ib_insync import *\n",
    "util.startLoop()\n",
    "\n",
    "ib = IB()\n",
    "ib.connect('127.0.0.1', 7497, clientId=16)"
   ]
  },
  {
   "cell_type": "markdown",
   "metadata": {},
   "source": [
    "To get a list of all exchanges that support market depth data and display the first five:"
   ]
  },
  {
   "cell_type": "code",
   "execution_count": 2,
   "metadata": {},
   "outputs": [
    {
     "data": {
      "text/plain": [
       "[DepthMktDataDescription(exchange='DTB', secType='OPT', serviceDataType='Deep'),\n",
       " DepthMktDataDescription(exchange='LSEETF', secType='STK', serviceDataType='Deep'),\n",
       " DepthMktDataDescription(exchange='SGX', secType='FUT', serviceDataType='Deep'),\n",
       " DepthMktDataDescription(exchange='IDEALPRO', secType='CASH', serviceDataType='Deep', aggGroup=4),\n",
       " DepthMktDataDescription(exchange='ARCA', secType='STK', serviceDataType='Deep')]"
      ]
     },
     "execution_count": 2,
     "metadata": {},
     "output_type": "execute_result"
    }
   ],
   "source": [
    "l = ib.reqMktDepthExchanges()\n",
    "l[:5]"
   ]
  },
  {
   "cell_type": "markdown",
   "metadata": {},
   "source": [
    "Let's subscribe to market depth data for EURUSD:"
   ]
  },
  {
   "cell_type": "code",
   "execution_count": 3,
   "metadata": {
    "collapsed": true
   },
   "outputs": [],
   "source": [
    "contract = Forex('EURUSD')\n",
    "ib.qualifyContracts(contract)\n",
    "ticker = ib.reqMktDepth(contract)"
   ]
  },
  {
   "cell_type": "markdown",
   "metadata": {},
   "source": [
    "To see the order book live updated:"
   ]
  },
  {
   "cell_type": "code",
   "execution_count": 4,
   "metadata": {},
   "outputs": [
    {
     "data": {
      "text/html": [
       "<div>\n",
       "<style>\n",
       "    .dataframe thead tr:only-child th {\n",
       "        text-align: right;\n",
       "    }\n",
       "\n",
       "    .dataframe thead th {\n",
       "        text-align: left;\n",
       "    }\n",
       "\n",
       "    .dataframe tbody tr th {\n",
       "        vertical-align: top;\n",
       "    }\n",
       "</style>\n",
       "<table border=\"1\" class=\"dataframe\">\n",
       "  <thead>\n",
       "    <tr style=\"text-align: right;\">\n",
       "      <th></th>\n",
       "      <th>bidSize</th>\n",
       "      <th>bidPrice</th>\n",
       "      <th>askPrice</th>\n",
       "      <th>askSize</th>\n",
       "    </tr>\n",
       "  </thead>\n",
       "  <tbody>\n",
       "    <tr>\n",
       "      <th>0</th>\n",
       "      <td>15000000</td>\n",
       "      <td>1.19135</td>\n",
       "      <td>1.1914</td>\n",
       "      <td>6500000</td>\n",
       "    </tr>\n",
       "    <tr>\n",
       "      <th>1</th>\n",
       "      <td>5500000</td>\n",
       "      <td>1.1913</td>\n",
       "      <td>1.19145</td>\n",
       "      <td>14000000</td>\n",
       "    </tr>\n",
       "    <tr>\n",
       "      <th>2</th>\n",
       "      <td>8000000</td>\n",
       "      <td>1.19125</td>\n",
       "      <td>1.1915</td>\n",
       "      <td>7000000</td>\n",
       "    </tr>\n",
       "    <tr>\n",
       "      <th>3</th>\n",
       "      <td>1000000</td>\n",
       "      <td>1.1912</td>\n",
       "      <td>1.19155</td>\n",
       "      <td>1030000</td>\n",
       "    </tr>\n",
       "    <tr>\n",
       "      <th>4</th>\n",
       "      <td>100000</td>\n",
       "      <td>1.1904</td>\n",
       "      <td>0</td>\n",
       "      <td>0</td>\n",
       "    </tr>\n",
       "  </tbody>\n",
       "</table>\n",
       "</div>"
      ],
      "text/plain": [
       "    bidSize bidPrice askPrice   askSize\n",
       "0  15000000  1.19135   1.1914   6500000\n",
       "1   5500000   1.1913  1.19145  14000000\n",
       "2   8000000  1.19125   1.1915   7000000\n",
       "3   1000000   1.1912  1.19155   1030000\n",
       "4    100000   1.1904        0         0"
      ]
     },
     "metadata": {},
     "output_type": "display_data"
    }
   ],
   "source": [
    "from IPython.display import display, clear_output\n",
    "import pandas as pd\n",
    "\n",
    "df = pd.DataFrame(index=range(5),\n",
    "        columns='bidSize bidPrice askPrice askSize'.split())\n",
    "\n",
    "for t in ib.loopUntil(timeout=15):\n",
    "    l = ticker.domBids\n",
    "    for i in range(5):\n",
    "        df.iloc[i, 0] = l[i].size if i < len(l) else 0\n",
    "        df.iloc[i, 1] = l[i].price if i < len(l) else 0\n",
    "    l = ticker.domAsks\n",
    "    for i in range(5):\n",
    "        df.iloc[i, 2] = l[i].price if i < len(l) else 0\n",
    "        df.iloc[i, 3] = l[i].size if i < len(l) else 0\n",
    "    clear_output(wait=True)\n",
    "    display(df)"
   ]
  },
  {
   "cell_type": "markdown",
   "metadata": {},
   "source": [
    "Stop the market depth subscription:"
   ]
  },
  {
   "cell_type": "code",
   "execution_count": 5,
   "metadata": {},
   "outputs": [],
   "source": [
    "ib.cancelMktDepth(contract)"
   ]
  },
  {
   "cell_type": "code",
   "execution_count": 6,
   "metadata": {
    "collapsed": true
   },
   "outputs": [],
   "source": [
    "ib.disconnect()"
   ]
  },
  {
   "cell_type": "code",
   "execution_count": null,
   "metadata": {
    "collapsed": true
   },
   "outputs": [],
   "source": []
  }
 ],
 "metadata": {
  "kernelspec": {
   "display_name": "Python 3",
   "language": "python",
   "name": "python3"
  },
  "language_info": {
   "codemirror_mode": {
    "name": "ipython",
    "version": 3
   },
   "file_extension": ".py",
   "mimetype": "text/x-python",
   "name": "python",
   "nbconvert_exporter": "python",
   "pygments_lexer": "ipython3",
   "version": "3.6.2"
  }
 },
 "nbformat": 4,
 "nbformat_minor": 2
}
