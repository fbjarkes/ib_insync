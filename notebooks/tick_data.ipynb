{
 "cells": [
  {
   "cell_type": "markdown",
   "metadata": {},
   "source": [
    "# Tick data\n",
    "\n",
    "For optimum results this notebook should be run during the Forex trading session."
   ]
  },
  {
   "cell_type": "code",
   "execution_count": 1,
   "metadata": {},
   "outputs": [
    {
     "data": {
      "text/plain": [
       "<IB connected to 127.0.0.1:7497 clientId=15>"
      ]
     },
     "execution_count": 1,
     "metadata": {},
     "output_type": "execute_result"
    }
   ],
   "source": [
    "from ib_insync import *\n",
    "util.startLoop()\n",
    "\n",
    "ib = IB()\n",
    "ib.connect('127.0.0.1', 7497, clientId=15)"
   ]
  },
  {
   "cell_type": "markdown",
   "metadata": {},
   "source": [
    "Create some Forex contracts:"
   ]
  },
  {
   "cell_type": "code",
   "execution_count": 2,
   "metadata": {
    "collapsed": true
   },
   "outputs": [],
   "source": [
    "contracts = [Forex(pair) for pair in 'EURUSD USDJPY GBPUSD USDCHF USDCAD AUDUSD'.split()]\n",
    "\n",
    "eurusd = contracts[0]"
   ]
  },
  {
   "cell_type": "markdown",
   "metadata": {},
   "source": [
    "Request streaming ticks for them:"
   ]
  },
  {
   "cell_type": "code",
   "execution_count": 3,
   "metadata": {
    "collapsed": true
   },
   "outputs": [],
   "source": [
    "for contract in contracts:\n",
    "    ib.reqMktData(contract, '', False, False)"
   ]
  },
  {
   "cell_type": "markdown",
   "metadata": {},
   "source": [
    "Wait a few seconds for the tickers to get filled."
   ]
  },
  {
   "cell_type": "code",
   "execution_count": 4,
   "metadata": {},
   "outputs": [
    {
     "data": {
      "text/plain": [
       "Ticker(contract=Forex('EURUSD', exchange='IDEALPRO'), time=datetime.datetime(2017, 9, 29, 19, 22, 19, 512678, tzinfo=datetime.timezone.utc), bid=1.1825, bidSize=18169000, ask=1.18255, askSize=1000000, prevBid=1.18255, prevBidSize=17169000, prevAsk=1.1826, prevAskSize=2000000, high=1.18325, low=1.17725, close=1.1787)"
      ]
     },
     "execution_count": 4,
     "metadata": {},
     "output_type": "execute_result"
    }
   ],
   "source": [
    "ticker = ib.ticker(eurusd)\n",
    "ib.sleep(2)\n",
    "\n",
    "ticker"
   ]
  },
  {
   "cell_type": "markdown",
   "metadata": {},
   "source": [
    "The price of Forex ticks is always nan. To get a midpoint price use ``marketPrice()``.\n",
    "\n",
    "The tickers are kept\n",
    "live updated, try this a few times to see if the price changes:"
   ]
  },
  {
   "cell_type": "code",
   "execution_count": 5,
   "metadata": {},
   "outputs": [
    {
     "data": {
      "text/plain": [
       "1.182525"
      ]
     },
     "execution_count": 5,
     "metadata": {},
     "output_type": "execute_result"
    }
   ],
   "source": [
    "ticker.marketPrice()"
   ]
  },
  {
   "cell_type": "markdown",
   "metadata": {},
   "source": [
    "The following cell will start a 60 second loop that prints a live updated ticker table.\n",
    "It is updated on every ticker change."
   ]
  },
  {
   "cell_type": "code",
   "execution_count": 6,
   "metadata": {},
   "outputs": [
    {
     "data": {
      "text/html": [
       "<div>\n",
       "<style>\n",
       "    .dataframe thead tr:only-child th {\n",
       "        text-align: right;\n",
       "    }\n",
       "\n",
       "    .dataframe thead th {\n",
       "        text-align: left;\n",
       "    }\n",
       "\n",
       "    .dataframe tbody tr th {\n",
       "        vertical-align: top;\n",
       "    }\n",
       "</style>\n",
       "<table border=\"1\" class=\"dataframe\">\n",
       "  <thead>\n",
       "    <tr style=\"text-align: right;\">\n",
       "      <th></th>\n",
       "      <th>symbol</th>\n",
       "      <th>bidSize</th>\n",
       "      <th>bid</th>\n",
       "      <th>ask</th>\n",
       "      <th>askSize</th>\n",
       "      <th>high</th>\n",
       "      <th>low</th>\n",
       "      <th>close</th>\n",
       "    </tr>\n",
       "  </thead>\n",
       "  <tbody>\n",
       "    <tr>\n",
       "      <th>0</th>\n",
       "      <td>EURUSD</td>\n",
       "      <td>11169000</td>\n",
       "      <td>1.1824</td>\n",
       "      <td>1.18245</td>\n",
       "      <td>3169000</td>\n",
       "      <td>1.18325</td>\n",
       "      <td>1.17725</td>\n",
       "      <td>1.1787</td>\n",
       "    </tr>\n",
       "    <tr>\n",
       "      <th>1</th>\n",
       "      <td>USDJPY</td>\n",
       "      <td>8000000</td>\n",
       "      <td>112.455</td>\n",
       "      <td>112.46</td>\n",
       "      <td>4000000</td>\n",
       "      <td>112.74</td>\n",
       "      <td>112.215</td>\n",
       "      <td>112.35</td>\n",
       "    </tr>\n",
       "    <tr>\n",
       "      <th>2</th>\n",
       "      <td>GBPUSD</td>\n",
       "      <td>1000000</td>\n",
       "      <td>1.34155</td>\n",
       "      <td>1.3416</td>\n",
       "      <td>3649000</td>\n",
       "      <td>1.34435</td>\n",
       "      <td>1.335</td>\n",
       "      <td>1.3442</td>\n",
       "    </tr>\n",
       "    <tr>\n",
       "      <th>3</th>\n",
       "      <td>USDCHF</td>\n",
       "      <td>2200000</td>\n",
       "      <td>0.96795</td>\n",
       "      <td>0.968</td>\n",
       "      <td>2200000</td>\n",
       "      <td>0.9721</td>\n",
       "      <td>0.967</td>\n",
       "      <td>0.9701</td>\n",
       "    </tr>\n",
       "    <tr>\n",
       "      <th>4</th>\n",
       "      <td>USDCAD</td>\n",
       "      <td>10700000</td>\n",
       "      <td>1.24675</td>\n",
       "      <td>1.24685</td>\n",
       "      <td>5200000</td>\n",
       "      <td>1.2533</td>\n",
       "      <td>1.2417</td>\n",
       "      <td>1.2427</td>\n",
       "    </tr>\n",
       "    <tr>\n",
       "      <th>5</th>\n",
       "      <td>AUDUSD</td>\n",
       "      <td>2255000</td>\n",
       "      <td>0.78455</td>\n",
       "      <td>0.7846</td>\n",
       "      <td>2000000</td>\n",
       "      <td>0.7856</td>\n",
       "      <td>0.78165</td>\n",
       "      <td>0.78575</td>\n",
       "    </tr>\n",
       "  </tbody>\n",
       "</table>\n",
       "</div>"
      ],
      "text/plain": [
       "   symbol   bidSize      bid      ask  askSize     high      low    close\n",
       "0  EURUSD  11169000   1.1824  1.18245  3169000  1.18325  1.17725   1.1787\n",
       "1  USDJPY   8000000  112.455   112.46  4000000   112.74  112.215   112.35\n",
       "2  GBPUSD   1000000  1.34155   1.3416  3649000  1.34435    1.335   1.3442\n",
       "3  USDCHF   2200000  0.96795    0.968  2200000   0.9721    0.967   0.9701\n",
       "4  USDCAD  10700000  1.24675  1.24685  5200000   1.2533   1.2417   1.2427\n",
       "5  AUDUSD   2255000  0.78455   0.7846  2000000   0.7856  0.78165  0.78575"
      ]
     },
     "metadata": {},
     "output_type": "display_data"
    }
   ],
   "source": [
    "from IPython.display import display, clear_output\n",
    "import pandas as pd\n",
    "\n",
    "df = pd.DataFrame(columns='symbol bidSize bid ask askSize high low close'.split())\n",
    "df['symbol'] = [c.symbol + c.currency for c in contracts]\n",
    "contract2Row = {c: i for (i, c) in enumerate(contracts)}\n",
    "\n",
    "def onPendingTickers(tickers):\n",
    "    for t in tickers:\n",
    "        row = contract2Row[t.contract]\n",
    "        df.iloc[row, 1:] = (t.bidSize, t.bid, t.ask, t.askSize, t.high, t.low, t.close)\n",
    "        clear_output(wait=True)\n",
    "    display(df)        \n",
    "\n",
    "ib.setCallback('pendingTickers', onPendingTickers)\n",
    "ib.sleep(60)"
   ]
  },
  {
   "cell_type": "markdown",
   "metadata": {},
   "source": [
    "New tick data is available in the 'ticks' attribute of the pending tickers.\n",
    "The tick data will be cleared before the next update."
   ]
  },
  {
   "cell_type": "markdown",
   "metadata": {
    "collapsed": true
   },
   "source": [
    "To stop the live tick subscriptions:"
   ]
  },
  {
   "cell_type": "code",
   "execution_count": 7,
   "metadata": {
    "collapsed": true
   },
   "outputs": [],
   "source": [
    "for contract in contracts:\n",
    "    ib.cancelMktData(contract)"
   ]
  },
  {
   "cell_type": "code",
   "execution_count": 8,
   "metadata": {
    "collapsed": true
   },
   "outputs": [],
   "source": [
    "ib.disconnect()"
   ]
  },
  {
   "cell_type": "code",
   "execution_count": null,
   "metadata": {
    "collapsed": true
   },
   "outputs": [],
   "source": []
  }
 ],
 "metadata": {
  "kernelspec": {
   "display_name": "Python 3",
   "language": "python",
   "name": "python3"
  },
  "language_info": {
   "codemirror_mode": {
    "name": "ipython",
    "version": 3
   },
   "file_extension": ".py",
   "mimetype": "text/x-python",
   "name": "python",
   "nbconvert_exporter": "python",
   "pygments_lexer": "ipython3",
   "version": "3.6.2"
  }
 },
 "nbformat": 4,
 "nbformat_minor": 2
}
