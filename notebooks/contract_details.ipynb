{
 "cells": [
  {
   "cell_type": "markdown",
   "metadata": {},
   "source": [
    "Contract details\n",
    "-------------------"
   ]
  },
  {
   "cell_type": "code",
   "execution_count": 1,
   "metadata": {
    "collapsed": true
   },
   "outputs": [],
   "source": [
    "from ib_insync import *\n",
    "util.startLoop()\n",
    "\n",
    "ib = IB()\n",
    "ib.connect('127.0.0.1', 7497, clientId=11)"
   ]
  },
  {
   "cell_type": "markdown",
   "metadata": {},
   "source": [
    "Suppose we want to find the contract details for AMD stock.\n",
    "Let's create a stock object and request the details for it:"
   ]
  },
  {
   "cell_type": "code",
   "execution_count": 2,
   "metadata": {},
   "outputs": [
    {
     "data": {
      "text/plain": [
       "25"
      ]
     },
     "execution_count": 2,
     "metadata": {},
     "output_type": "execute_result"
    }
   ],
   "source": [
    "amd = Stock('AMD')\n",
    "\n",
    "cds = ib.reqContractDetails(amd)\n",
    "\n",
    "len(cds)"
   ]
  },
  {
   "cell_type": "markdown",
   "metadata": {},
   "source": [
    "We get a long list of contract details. Lets print the first one:"
   ]
  },
  {
   "cell_type": "code",
   "execution_count": 3,
   "metadata": {},
   "outputs": [
    {
     "data": {
      "text/plain": [
       "ContractDetails(summary=Contract(conId=4391, symbol='AMD', secType='STK', exchange='SMART', primaryExchange='NASDAQ', currency='USD', localSymbol='AMD', tradingClass='SCM'), marketName='SCM', minTick=0.01, orderTypes='ACTIVETIM,ADJUST,ALERT,ALGO,ALLOC,AON,AVGCOST,BASKET,COND,CONDORDER,DARKONLY,DARKPOLL,DAY,DEACT,DEACTDIS,DEACTEOD,DIS,GAT,GTC,GTD,GTT,HID,IBKRATS,ICE,IMB,IOC,LIT,LMT,LOC,MIT,MKT,MOC,MTL,NGCOMB,NODARK,NONALGO,OCA,OPG,OPGREROUT,PEGBENCH,POSTONLY,PREOPGRTH,REL,RPI,RTH,SCALE,SCALEODD,SCALERST,SNAPMID,SNAPMKT,SNAPREL,STP,STPLMT,SWEEP,TRAIL,TRAILLIT,TRAILLMT,TRAILMIT,WHATIF', validExchanges='SMART,AMEX,CBOE,ISE,CHX,ARCA,ISLAND,VWAP,DRCTEDGE,NSX,BEX,BATS,EDGEA,CSFBALGO,JEFFALGO,BYX,IEX,PSX', priceMagnifier=1, longName='ADVANCED MICRO DEVICES', industry='Technology', category='Semiconductors', subcategory='Electronic Compo-Semicon', timeZoneId='EST5EDT', tradingHours='20170807:0400-2000;20170808:0400-2000;20170809:0400-2000;20170810:0400-2000;20170811:0400-2000;20170812:CLOSED;20170813:CLOSED;20170814:0400-2000;20170815:0400-2000;20170816:0400-2000;20170817:0400-2000;20170818:0400-2000;20170819:CLOSED;20170820:CLOSED;20170821:0400-2000;20170822:0400-2000;20170823:0400-2000;20170824:0400-2000;20170825:0400-2000;20170826:CLOSED;20170827:CLOSED;20170828:0400-2000;20170829:0400-2000;20170830:0400-2000;20170831:0400-2000;20170901:0400-2000;20170902:CLOSED;20170903:CLOSED;20170904:0400-2000;20170905:0400-2000;20170906:0400-2000;20170907:0400-2000;20170908:0400-2000;20170909:CLOSED;20170910:CLOSED', liquidHours='20170807:0930-1600;20170808:0930-1600;20170809:0930-1600;20170810:0930-1600;20170811:0930-1600;20170812:CLOSED;20170813:CLOSED;20170814:0930-1600;20170815:0930-1600;20170816:0930-1600;20170817:0930-1600;20170818:0930-1600;20170819:CLOSED;20170820:CLOSED;20170821:0930-1600;20170822:0930-1600;20170823:0930-1600;20170824:0930-1600;20170825:0930-1600;20170826:CLOSED;20170827:CLOSED;20170828:0930-1600;20170829:0930-1600;20170830:0930-1600;20170831:0930-1600;20170901:0930-1600;20170902:CLOSED;20170903:CLOSED;20170904:0930-1600;20170905:0930-1600;20170906:0930-1600;20170907:0930-1600;20170908:0930-1600;20170909:CLOSED;20170910:CLOSED', mdSizeMultiplier=100, aggGroup=1)"
      ]
     },
     "execution_count": 3,
     "metadata": {},
     "output_type": "execute_result"
    }
   ],
   "source": [
    "cds[0]"
   ]
  },
  {
   "cell_type": "markdown",
   "metadata": {},
   "source": [
    "The contract itself is in the 'summary' property of the contract details. Lets make a list of contracts and look at the first:"
   ]
  },
  {
   "cell_type": "code",
   "execution_count": 4,
   "metadata": {},
   "outputs": [
    {
     "data": {
      "text/plain": [
       "Contract(conId=4391, symbol='AMD', secType='STK', exchange='SMART', primaryExchange='NASDAQ', currency='USD', localSymbol='AMD', tradingClass='SCM')"
      ]
     },
     "execution_count": 4,
     "metadata": {},
     "output_type": "execute_result"
    }
   ],
   "source": [
    "contracts = [cd.summary for cd in cds]\n",
    "\n",
    "contracts[0]"
   ]
  },
  {
   "cell_type": "markdown",
   "metadata": {},
   "source": [
    "To better spot the difference between all the contracts it's handy to convert to a DataFrame. There is a utility function to do that:"
   ]
  },
  {
   "cell_type": "code",
   "execution_count": 5,
   "metadata": {},
   "outputs": [
    {
     "data": {
      "text/html": [
       "<div>\n",
       "<style>\n",
       "    .dataframe thead tr:only-child th {\n",
       "        text-align: right;\n",
       "    }\n",
       "\n",
       "    .dataframe thead th {\n",
       "        text-align: left;\n",
       "    }\n",
       "\n",
       "    .dataframe tbody tr th {\n",
       "        vertical-align: top;\n",
       "    }\n",
       "</style>\n",
       "<table border=\"1\" class=\"dataframe\">\n",
       "  <thead>\n",
       "    <tr style=\"text-align: right;\">\n",
       "      <th></th>\n",
       "      <th>conId</th>\n",
       "      <th>symbol</th>\n",
       "      <th>secType</th>\n",
       "      <th>lastTradeDateOrContractMonth</th>\n",
       "      <th>strike</th>\n",
       "      <th>right</th>\n",
       "      <th>multiplier</th>\n",
       "      <th>exchange</th>\n",
       "      <th>primaryExchange</th>\n",
       "      <th>currency</th>\n",
       "      <th>localSymbol</th>\n",
       "      <th>tradingClass</th>\n",
       "      <th>includeExpired</th>\n",
       "      <th>secIdType</th>\n",
       "      <th>secId</th>\n",
       "      <th>comboLegsDescrip</th>\n",
       "      <th>comboLegs</th>\n",
       "      <th>underComp</th>\n",
       "    </tr>\n",
       "  </thead>\n",
       "  <tbody>\n",
       "    <tr>\n",
       "      <th>0</th>\n",
       "      <td>4391</td>\n",
       "      <td>AMD</td>\n",
       "      <td>STK</td>\n",
       "      <td></td>\n",
       "      <td>0.0</td>\n",
       "      <td></td>\n",
       "      <td></td>\n",
       "      <td>SMART</td>\n",
       "      <td>NASDAQ</td>\n",
       "      <td>USD</td>\n",
       "      <td>AMD</td>\n",
       "      <td>SCM</td>\n",
       "      <td>False</td>\n",
       "      <td></td>\n",
       "      <td></td>\n",
       "      <td></td>\n",
       "      <td>None</td>\n",
       "      <td>None</td>\n",
       "    </tr>\n",
       "    <tr>\n",
       "      <th>1</th>\n",
       "      <td>32596680</td>\n",
       "      <td>AMD</td>\n",
       "      <td>STK</td>\n",
       "      <td></td>\n",
       "      <td>0.0</td>\n",
       "      <td></td>\n",
       "      <td></td>\n",
       "      <td>SMART</td>\n",
       "      <td>IBIS</td>\n",
       "      <td>EUR</td>\n",
       "      <td>AMD</td>\n",
       "      <td>USSTARS</td>\n",
       "      <td>False</td>\n",
       "      <td></td>\n",
       "      <td></td>\n",
       "      <td></td>\n",
       "      <td>None</td>\n",
       "      <td>None</td>\n",
       "    </tr>\n",
       "    <tr>\n",
       "      <th>2</th>\n",
       "      <td>172603743</td>\n",
       "      <td>AMD</td>\n",
       "      <td>STK</td>\n",
       "      <td></td>\n",
       "      <td>0.0</td>\n",
       "      <td></td>\n",
       "      <td></td>\n",
       "      <td>SMART</td>\n",
       "      <td>EBS</td>\n",
       "      <td>CHF</td>\n",
       "      <td>AMD</td>\n",
       "      <td>AMD</td>\n",
       "      <td>False</td>\n",
       "      <td></td>\n",
       "      <td></td>\n",
       "      <td></td>\n",
       "      <td>None</td>\n",
       "      <td>None</td>\n",
       "    </tr>\n",
       "    <tr>\n",
       "      <th>3</th>\n",
       "      <td>4391</td>\n",
       "      <td>AMD</td>\n",
       "      <td>STK</td>\n",
       "      <td></td>\n",
       "      <td>0.0</td>\n",
       "      <td></td>\n",
       "      <td></td>\n",
       "      <td>AMEX</td>\n",
       "      <td>NASDAQ</td>\n",
       "      <td>USD</td>\n",
       "      <td>AMD</td>\n",
       "      <td>SCM</td>\n",
       "      <td>False</td>\n",
       "      <td></td>\n",
       "      <td></td>\n",
       "      <td></td>\n",
       "      <td>None</td>\n",
       "      <td>None</td>\n",
       "    </tr>\n",
       "    <tr>\n",
       "      <th>4</th>\n",
       "      <td>4391</td>\n",
       "      <td>AMD</td>\n",
       "      <td>STK</td>\n",
       "      <td></td>\n",
       "      <td>0.0</td>\n",
       "      <td></td>\n",
       "      <td></td>\n",
       "      <td>CBOE</td>\n",
       "      <td>NASDAQ</td>\n",
       "      <td>USD</td>\n",
       "      <td>AMD</td>\n",
       "      <td>SCM</td>\n",
       "      <td>False</td>\n",
       "      <td></td>\n",
       "      <td></td>\n",
       "      <td></td>\n",
       "      <td>None</td>\n",
       "      <td>None</td>\n",
       "    </tr>\n",
       "    <tr>\n",
       "      <th>5</th>\n",
       "      <td>4391</td>\n",
       "      <td>AMD</td>\n",
       "      <td>STK</td>\n",
       "      <td></td>\n",
       "      <td>0.0</td>\n",
       "      <td></td>\n",
       "      <td></td>\n",
       "      <td>ISE</td>\n",
       "      <td>NASDAQ</td>\n",
       "      <td>USD</td>\n",
       "      <td>AMD</td>\n",
       "      <td>SCM</td>\n",
       "      <td>False</td>\n",
       "      <td></td>\n",
       "      <td></td>\n",
       "      <td></td>\n",
       "      <td>None</td>\n",
       "      <td>None</td>\n",
       "    </tr>\n",
       "    <tr>\n",
       "      <th>6</th>\n",
       "      <td>4391</td>\n",
       "      <td>AMD</td>\n",
       "      <td>STK</td>\n",
       "      <td></td>\n",
       "      <td>0.0</td>\n",
       "      <td></td>\n",
       "      <td></td>\n",
       "      <td>CHX</td>\n",
       "      <td>NASDAQ</td>\n",
       "      <td>USD</td>\n",
       "      <td>AMD</td>\n",
       "      <td>SCM</td>\n",
       "      <td>False</td>\n",
       "      <td></td>\n",
       "      <td></td>\n",
       "      <td></td>\n",
       "      <td>None</td>\n",
       "      <td>None</td>\n",
       "    </tr>\n",
       "    <tr>\n",
       "      <th>7</th>\n",
       "      <td>4391</td>\n",
       "      <td>AMD</td>\n",
       "      <td>STK</td>\n",
       "      <td></td>\n",
       "      <td>0.0</td>\n",
       "      <td></td>\n",
       "      <td></td>\n",
       "      <td>ARCA</td>\n",
       "      <td>NASDAQ</td>\n",
       "      <td>USD</td>\n",
       "      <td>AMD</td>\n",
       "      <td>SCM</td>\n",
       "      <td>False</td>\n",
       "      <td></td>\n",
       "      <td></td>\n",
       "      <td></td>\n",
       "      <td>None</td>\n",
       "      <td>None</td>\n",
       "    </tr>\n",
       "    <tr>\n",
       "      <th>8</th>\n",
       "      <td>4391</td>\n",
       "      <td>AMD</td>\n",
       "      <td>STK</td>\n",
       "      <td></td>\n",
       "      <td>0.0</td>\n",
       "      <td></td>\n",
       "      <td></td>\n",
       "      <td>ISLAND</td>\n",
       "      <td>NASDAQ</td>\n",
       "      <td>USD</td>\n",
       "      <td>AMD</td>\n",
       "      <td>SCM</td>\n",
       "      <td>False</td>\n",
       "      <td></td>\n",
       "      <td></td>\n",
       "      <td></td>\n",
       "      <td>None</td>\n",
       "      <td>None</td>\n",
       "    </tr>\n",
       "    <tr>\n",
       "      <th>9</th>\n",
       "      <td>4391</td>\n",
       "      <td>AMD</td>\n",
       "      <td>STK</td>\n",
       "      <td></td>\n",
       "      <td>0.0</td>\n",
       "      <td></td>\n",
       "      <td></td>\n",
       "      <td>DRCTEDGE</td>\n",
       "      <td>NASDAQ</td>\n",
       "      <td>USD</td>\n",
       "      <td>AMD</td>\n",
       "      <td>SCM</td>\n",
       "      <td>False</td>\n",
       "      <td></td>\n",
       "      <td></td>\n",
       "      <td></td>\n",
       "      <td>None</td>\n",
       "      <td>None</td>\n",
       "    </tr>\n",
       "    <tr>\n",
       "      <th>10</th>\n",
       "      <td>4391</td>\n",
       "      <td>AMD</td>\n",
       "      <td>STK</td>\n",
       "      <td></td>\n",
       "      <td>0.0</td>\n",
       "      <td></td>\n",
       "      <td></td>\n",
       "      <td>NSX</td>\n",
       "      <td>NASDAQ</td>\n",
       "      <td>USD</td>\n",
       "      <td>AMD</td>\n",
       "      <td>SCM</td>\n",
       "      <td>False</td>\n",
       "      <td></td>\n",
       "      <td></td>\n",
       "      <td></td>\n",
       "      <td>None</td>\n",
       "      <td>None</td>\n",
       "    </tr>\n",
       "    <tr>\n",
       "      <th>11</th>\n",
       "      <td>4391</td>\n",
       "      <td>AMD</td>\n",
       "      <td>STK</td>\n",
       "      <td></td>\n",
       "      <td>0.0</td>\n",
       "      <td></td>\n",
       "      <td></td>\n",
       "      <td>BEX</td>\n",
       "      <td>NASDAQ</td>\n",
       "      <td>USD</td>\n",
       "      <td>AMD</td>\n",
       "      <td>SCM</td>\n",
       "      <td>False</td>\n",
       "      <td></td>\n",
       "      <td></td>\n",
       "      <td></td>\n",
       "      <td>None</td>\n",
       "      <td>None</td>\n",
       "    </tr>\n",
       "    <tr>\n",
       "      <th>12</th>\n",
       "      <td>4391</td>\n",
       "      <td>AMD</td>\n",
       "      <td>STK</td>\n",
       "      <td></td>\n",
       "      <td>0.0</td>\n",
       "      <td></td>\n",
       "      <td></td>\n",
       "      <td>BATS</td>\n",
       "      <td>NASDAQ</td>\n",
       "      <td>USD</td>\n",
       "      <td>AMD</td>\n",
       "      <td>SCM</td>\n",
       "      <td>False</td>\n",
       "      <td></td>\n",
       "      <td></td>\n",
       "      <td></td>\n",
       "      <td>None</td>\n",
       "      <td>None</td>\n",
       "    </tr>\n",
       "    <tr>\n",
       "      <th>13</th>\n",
       "      <td>4391</td>\n",
       "      <td>AMD</td>\n",
       "      <td>STK</td>\n",
       "      <td></td>\n",
       "      <td>0.0</td>\n",
       "      <td></td>\n",
       "      <td></td>\n",
       "      <td>EDGEA</td>\n",
       "      <td>NASDAQ</td>\n",
       "      <td>USD</td>\n",
       "      <td>AMD</td>\n",
       "      <td>SCM</td>\n",
       "      <td>False</td>\n",
       "      <td></td>\n",
       "      <td></td>\n",
       "      <td></td>\n",
       "      <td>None</td>\n",
       "      <td>None</td>\n",
       "    </tr>\n",
       "    <tr>\n",
       "      <th>14</th>\n",
       "      <td>4391</td>\n",
       "      <td>AMD</td>\n",
       "      <td>STK</td>\n",
       "      <td></td>\n",
       "      <td>0.0</td>\n",
       "      <td></td>\n",
       "      <td></td>\n",
       "      <td>CSFBALGO</td>\n",
       "      <td>NASDAQ</td>\n",
       "      <td>USD</td>\n",
       "      <td>AMD</td>\n",
       "      <td>SCM</td>\n",
       "      <td>False</td>\n",
       "      <td></td>\n",
       "      <td></td>\n",
       "      <td></td>\n",
       "      <td>None</td>\n",
       "      <td>None</td>\n",
       "    </tr>\n",
       "    <tr>\n",
       "      <th>15</th>\n",
       "      <td>4391</td>\n",
       "      <td>AMD</td>\n",
       "      <td>STK</td>\n",
       "      <td></td>\n",
       "      <td>0.0</td>\n",
       "      <td></td>\n",
       "      <td></td>\n",
       "      <td>JEFFALGO</td>\n",
       "      <td>NASDAQ</td>\n",
       "      <td>USD</td>\n",
       "      <td>AMD</td>\n",
       "      <td>SCM</td>\n",
       "      <td>False</td>\n",
       "      <td></td>\n",
       "      <td></td>\n",
       "      <td></td>\n",
       "      <td>None</td>\n",
       "      <td>None</td>\n",
       "    </tr>\n",
       "    <tr>\n",
       "      <th>16</th>\n",
       "      <td>4391</td>\n",
       "      <td>AMD</td>\n",
       "      <td>STK</td>\n",
       "      <td></td>\n",
       "      <td>0.0</td>\n",
       "      <td></td>\n",
       "      <td></td>\n",
       "      <td>BYX</td>\n",
       "      <td>NASDAQ</td>\n",
       "      <td>USD</td>\n",
       "      <td>AMD</td>\n",
       "      <td>SCM</td>\n",
       "      <td>False</td>\n",
       "      <td></td>\n",
       "      <td></td>\n",
       "      <td></td>\n",
       "      <td>None</td>\n",
       "      <td>None</td>\n",
       "    </tr>\n",
       "    <tr>\n",
       "      <th>17</th>\n",
       "      <td>4391</td>\n",
       "      <td>AMD</td>\n",
       "      <td>STK</td>\n",
       "      <td></td>\n",
       "      <td>0.0</td>\n",
       "      <td></td>\n",
       "      <td></td>\n",
       "      <td>IEX</td>\n",
       "      <td>NASDAQ</td>\n",
       "      <td>USD</td>\n",
       "      <td>AMD</td>\n",
       "      <td>SCM</td>\n",
       "      <td>False</td>\n",
       "      <td></td>\n",
       "      <td></td>\n",
       "      <td></td>\n",
       "      <td>None</td>\n",
       "      <td>None</td>\n",
       "    </tr>\n",
       "    <tr>\n",
       "      <th>18</th>\n",
       "      <td>4391</td>\n",
       "      <td>AMD</td>\n",
       "      <td>STK</td>\n",
       "      <td></td>\n",
       "      <td>0.0</td>\n",
       "      <td></td>\n",
       "      <td></td>\n",
       "      <td>PSX</td>\n",
       "      <td>NASDAQ</td>\n",
       "      <td>USD</td>\n",
       "      <td>AMD</td>\n",
       "      <td>SCM</td>\n",
       "      <td>False</td>\n",
       "      <td></td>\n",
       "      <td></td>\n",
       "      <td></td>\n",
       "      <td>None</td>\n",
       "      <td>None</td>\n",
       "    </tr>\n",
       "    <tr>\n",
       "      <th>19</th>\n",
       "      <td>32596680</td>\n",
       "      <td>AMD</td>\n",
       "      <td>STK</td>\n",
       "      <td></td>\n",
       "      <td>0.0</td>\n",
       "      <td></td>\n",
       "      <td></td>\n",
       "      <td>FWB</td>\n",
       "      <td>IBIS</td>\n",
       "      <td>EUR</td>\n",
       "      <td>AMD</td>\n",
       "      <td>USSTARS</td>\n",
       "      <td>False</td>\n",
       "      <td></td>\n",
       "      <td></td>\n",
       "      <td></td>\n",
       "      <td>None</td>\n",
       "      <td>None</td>\n",
       "    </tr>\n",
       "    <tr>\n",
       "      <th>20</th>\n",
       "      <td>32596680</td>\n",
       "      <td>AMD</td>\n",
       "      <td>STK</td>\n",
       "      <td></td>\n",
       "      <td>0.0</td>\n",
       "      <td></td>\n",
       "      <td></td>\n",
       "      <td>IBIS</td>\n",
       "      <td>IBIS</td>\n",
       "      <td>EUR</td>\n",
       "      <td>AMD</td>\n",
       "      <td>USSTARS</td>\n",
       "      <td>False</td>\n",
       "      <td></td>\n",
       "      <td></td>\n",
       "      <td></td>\n",
       "      <td>None</td>\n",
       "      <td>None</td>\n",
       "    </tr>\n",
       "    <tr>\n",
       "      <th>21</th>\n",
       "      <td>32596680</td>\n",
       "      <td>AMD</td>\n",
       "      <td>STK</td>\n",
       "      <td></td>\n",
       "      <td>0.0</td>\n",
       "      <td></td>\n",
       "      <td></td>\n",
       "      <td>SWB</td>\n",
       "      <td>IBIS</td>\n",
       "      <td>EUR</td>\n",
       "      <td>AMD</td>\n",
       "      <td>XETRA</td>\n",
       "      <td>False</td>\n",
       "      <td></td>\n",
       "      <td></td>\n",
       "      <td></td>\n",
       "      <td>None</td>\n",
       "      <td>None</td>\n",
       "    </tr>\n",
       "    <tr>\n",
       "      <th>22</th>\n",
       "      <td>32596680</td>\n",
       "      <td>AMD</td>\n",
       "      <td>STK</td>\n",
       "      <td></td>\n",
       "      <td>0.0</td>\n",
       "      <td></td>\n",
       "      <td></td>\n",
       "      <td>TGATE</td>\n",
       "      <td>IBIS</td>\n",
       "      <td>EUR</td>\n",
       "      <td>AMD</td>\n",
       "      <td>AMD</td>\n",
       "      <td>False</td>\n",
       "      <td></td>\n",
       "      <td></td>\n",
       "      <td></td>\n",
       "      <td>None</td>\n",
       "      <td>None</td>\n",
       "    </tr>\n",
       "    <tr>\n",
       "      <th>23</th>\n",
       "      <td>48818298</td>\n",
       "      <td>AMD</td>\n",
       "      <td>STK</td>\n",
       "      <td></td>\n",
       "      <td>0.0</td>\n",
       "      <td></td>\n",
       "      <td></td>\n",
       "      <td>MEXI</td>\n",
       "      <td>MEXI</td>\n",
       "      <td>MXN</td>\n",
       "      <td>AMD</td>\n",
       "      <td>AMD</td>\n",
       "      <td>False</td>\n",
       "      <td></td>\n",
       "      <td></td>\n",
       "      <td></td>\n",
       "      <td>None</td>\n",
       "      <td>None</td>\n",
       "    </tr>\n",
       "    <tr>\n",
       "      <th>24</th>\n",
       "      <td>172603743</td>\n",
       "      <td>AMD</td>\n",
       "      <td>STK</td>\n",
       "      <td></td>\n",
       "      <td>0.0</td>\n",
       "      <td></td>\n",
       "      <td></td>\n",
       "      <td>EBS</td>\n",
       "      <td>EBS</td>\n",
       "      <td>CHF</td>\n",
       "      <td>AMD</td>\n",
       "      <td>AMD</td>\n",
       "      <td>False</td>\n",
       "      <td></td>\n",
       "      <td></td>\n",
       "      <td></td>\n",
       "      <td>None</td>\n",
       "      <td>None</td>\n",
       "    </tr>\n",
       "  </tbody>\n",
       "</table>\n",
       "</div>"
      ],
      "text/plain": [
       "        conId symbol secType lastTradeDateOrContractMonth  strike right  \\\n",
       "0        4391    AMD     STK                                  0.0         \n",
       "1    32596680    AMD     STK                                  0.0         \n",
       "2   172603743    AMD     STK                                  0.0         \n",
       "3        4391    AMD     STK                                  0.0         \n",
       "4        4391    AMD     STK                                  0.0         \n",
       "5        4391    AMD     STK                                  0.0         \n",
       "6        4391    AMD     STK                                  0.0         \n",
       "7        4391    AMD     STK                                  0.0         \n",
       "8        4391    AMD     STK                                  0.0         \n",
       "9        4391    AMD     STK                                  0.0         \n",
       "10       4391    AMD     STK                                  0.0         \n",
       "11       4391    AMD     STK                                  0.0         \n",
       "12       4391    AMD     STK                                  0.0         \n",
       "13       4391    AMD     STK                                  0.0         \n",
       "14       4391    AMD     STK                                  0.0         \n",
       "15       4391    AMD     STK                                  0.0         \n",
       "16       4391    AMD     STK                                  0.0         \n",
       "17       4391    AMD     STK                                  0.0         \n",
       "18       4391    AMD     STK                                  0.0         \n",
       "19   32596680    AMD     STK                                  0.0         \n",
       "20   32596680    AMD     STK                                  0.0         \n",
       "21   32596680    AMD     STK                                  0.0         \n",
       "22   32596680    AMD     STK                                  0.0         \n",
       "23   48818298    AMD     STK                                  0.0         \n",
       "24  172603743    AMD     STK                                  0.0         \n",
       "\n",
       "   multiplier  exchange primaryExchange currency localSymbol tradingClass  \\\n",
       "0                 SMART          NASDAQ      USD         AMD          SCM   \n",
       "1                 SMART            IBIS      EUR         AMD      USSTARS   \n",
       "2                 SMART             EBS      CHF         AMD          AMD   \n",
       "3                  AMEX          NASDAQ      USD         AMD          SCM   \n",
       "4                  CBOE          NASDAQ      USD         AMD          SCM   \n",
       "5                   ISE          NASDAQ      USD         AMD          SCM   \n",
       "6                   CHX          NASDAQ      USD         AMD          SCM   \n",
       "7                  ARCA          NASDAQ      USD         AMD          SCM   \n",
       "8                ISLAND          NASDAQ      USD         AMD          SCM   \n",
       "9              DRCTEDGE          NASDAQ      USD         AMD          SCM   \n",
       "10                  NSX          NASDAQ      USD         AMD          SCM   \n",
       "11                  BEX          NASDAQ      USD         AMD          SCM   \n",
       "12                 BATS          NASDAQ      USD         AMD          SCM   \n",
       "13                EDGEA          NASDAQ      USD         AMD          SCM   \n",
       "14             CSFBALGO          NASDAQ      USD         AMD          SCM   \n",
       "15             JEFFALGO          NASDAQ      USD         AMD          SCM   \n",
       "16                  BYX          NASDAQ      USD         AMD          SCM   \n",
       "17                  IEX          NASDAQ      USD         AMD          SCM   \n",
       "18                  PSX          NASDAQ      USD         AMD          SCM   \n",
       "19                  FWB            IBIS      EUR         AMD      USSTARS   \n",
       "20                 IBIS            IBIS      EUR         AMD      USSTARS   \n",
       "21                  SWB            IBIS      EUR         AMD        XETRA   \n",
       "22                TGATE            IBIS      EUR         AMD          AMD   \n",
       "23                 MEXI            MEXI      MXN         AMD          AMD   \n",
       "24                  EBS             EBS      CHF         AMD          AMD   \n",
       "\n",
       "    includeExpired secIdType secId comboLegsDescrip comboLegs underComp  \n",
       "0            False                                       None      None  \n",
       "1            False                                       None      None  \n",
       "2            False                                       None      None  \n",
       "3            False                                       None      None  \n",
       "4            False                                       None      None  \n",
       "5            False                                       None      None  \n",
       "6            False                                       None      None  \n",
       "7            False                                       None      None  \n",
       "8            False                                       None      None  \n",
       "9            False                                       None      None  \n",
       "10           False                                       None      None  \n",
       "11           False                                       None      None  \n",
       "12           False                                       None      None  \n",
       "13           False                                       None      None  \n",
       "14           False                                       None      None  \n",
       "15           False                                       None      None  \n",
       "16           False                                       None      None  \n",
       "17           False                                       None      None  \n",
       "18           False                                       None      None  \n",
       "19           False                                       None      None  \n",
       "20           False                                       None      None  \n",
       "21           False                                       None      None  \n",
       "22           False                                       None      None  \n",
       "23           False                                       None      None  \n",
       "24           False                                       None      None  "
      ]
     },
     "execution_count": 5,
     "metadata": {},
     "output_type": "execute_result"
    }
   ],
   "source": [
    "util.df(contracts)"
   ]
  },
  {
   "cell_type": "markdown",
   "metadata": {},
   "source": [
    "Or use a dict comprehension of set comprehensions..."
   ]
  },
  {
   "cell_type": "code",
   "execution_count": 6,
   "metadata": {},
   "outputs": [
    {
     "data": {
      "text/plain": [
       "{'comboLegs': {None},\n",
       " 'comboLegsDescrip': {''},\n",
       " 'conId': {4391, 32596680, 48818298, 172603743},\n",
       " 'currency': {'CHF', 'EUR', 'MXN', 'USD'},\n",
       " 'exchange': {'AMEX',\n",
       "  'ARCA',\n",
       "  'BATS',\n",
       "  'BEX',\n",
       "  'BYX',\n",
       "  'CBOE',\n",
       "  'CHX',\n",
       "  'CSFBALGO',\n",
       "  'DRCTEDGE',\n",
       "  'EBS',\n",
       "  'EDGEA',\n",
       "  'FWB',\n",
       "  'IBIS',\n",
       "  'IEX',\n",
       "  'ISE',\n",
       "  'ISLAND',\n",
       "  'JEFFALGO',\n",
       "  'MEXI',\n",
       "  'NSX',\n",
       "  'PSX',\n",
       "  'SMART',\n",
       "  'SWB',\n",
       "  'TGATE'},\n",
       " 'includeExpired': {False},\n",
       " 'lastTradeDateOrContractMonth': {''},\n",
       " 'localSymbol': {'AMD'},\n",
       " 'multiplier': {''},\n",
       " 'primaryExchange': {'EBS', 'IBIS', 'MEXI', 'NASDAQ'},\n",
       " 'right': {''},\n",
       " 'secId': {''},\n",
       " 'secIdType': {''},\n",
       " 'secType': {'STK'},\n",
       " 'strike': {0.0},\n",
       " 'symbol': {'AMD'},\n",
       " 'tradingClass': {'AMD', 'SCM', 'USSTARS', 'XETRA'},\n",
       " 'underComp': {None}}"
      ]
     },
     "execution_count": 6,
     "metadata": {},
     "output_type": "execute_result"
    }
   ],
   "source": [
    "{key: set(getattr(c, key) for c in contracts) for key in Contract.defaults}"
   ]
  },
  {
   "cell_type": "markdown",
   "metadata": {},
   "source": [
    "We can see from this that AMD trades in different currencies on different exchanges.\n",
    "Suppose we want the one in USD on the SMART exchange. The AMD contract is adjusted to\n",
    "reflect that and becomes unique:"
   ]
  },
  {
   "cell_type": "code",
   "execution_count": 7,
   "metadata": {
    "collapsed": true
   },
   "outputs": [],
   "source": [
    "amd = Stock('AMD', 'SMART', 'USD')\n",
    "\n",
    "assert len(ib.reqContractDetails(amd)) == 1"
   ]
  },
  {
   "cell_type": "markdown",
   "metadata": {},
   "source": [
    "Lets try the same for Intel:"
   ]
  },
  {
   "cell_type": "code",
   "execution_count": 8,
   "metadata": {
    "collapsed": true
   },
   "outputs": [],
   "source": [
    "intc = Stock('INTC', 'SMART', 'USD')\n",
    "\n",
    "assert len(ib.reqContractDetails(intc)) == 1"
   ]
  },
  {
   "cell_type": "markdown",
   "metadata": {},
   "source": [
    "Let's try a non-existing contract:"
   ]
  },
  {
   "cell_type": "code",
   "execution_count": 9,
   "metadata": {},
   "outputs": [
    {
     "name": "stderr",
     "output_type": "stream",
     "text": [
      "ERROR:ib_insync.wrapper:Error 200, reqId 5: No security definition has been found for the request\n"
     ]
    }
   ],
   "source": [
    "xxx = Stock('XXX', 'SMART', 'USD')\n",
    "\n",
    "assert len(ib.reqContractDetails(xxx)) == 0"
   ]
  },
  {
   "cell_type": "markdown",
   "metadata": {},
   "source": [
    "or a Forex contract"
   ]
  },
  {
   "cell_type": "code",
   "execution_count": 10,
   "metadata": {
    "collapsed": true
   },
   "outputs": [],
   "source": [
    "eurusd = Forex('EURUSD')\n",
    "\n",
    "assert len(ib.reqContractDetails(eurusd)) == 1"
   ]
  },
  {
   "cell_type": "markdown",
   "metadata": {},
   "source": [
    "With the ``qualifyContracts`` method the extra information that is send back\n",
    "from the contract details request is used to fill in the original contracts.\n",
    "\n",
    "Lets do that with ``amd`` and compare before and aftwards:"
   ]
  },
  {
   "cell_type": "code",
   "execution_count": 11,
   "metadata": {},
   "outputs": [
    {
     "data": {
      "text/plain": [
       "Stock(symbol='AMD', exchange='SMART', currency='USD')"
      ]
     },
     "execution_count": 11,
     "metadata": {},
     "output_type": "execute_result"
    }
   ],
   "source": [
    "amd"
   ]
  },
  {
   "cell_type": "code",
   "execution_count": 12,
   "metadata": {},
   "outputs": [
    {
     "data": {
      "text/plain": [
       "Stock(conId=4391, symbol='AMD', exchange='SMART', primaryExchange='NASDAQ', currency='USD', localSymbol='AMD', tradingClass='SCM')"
      ]
     },
     "execution_count": 12,
     "metadata": {},
     "output_type": "execute_result"
    }
   ],
   "source": [
    "ib.qualifyContracts(amd)\n",
    "amd"
   ]
  },
  {
   "cell_type": "markdown",
   "metadata": {},
   "source": [
    "**TIP:** When printing a contract, the output can be copy-pasted and it will be valid Python code.\n",
    "\n",
    "The ``conId`` that is returned can by itself be used to uniquely specify a contract:"
   ]
  },
  {
   "cell_type": "code",
   "execution_count": 13,
   "metadata": {
    "collapsed": true
   },
   "outputs": [],
   "source": [
    "contract_4391 = Contract(conId=4391)\n",
    "\n",
    "ib.qualifyContracts(contract_4391)\n",
    "\n",
    "assert contract_4391 == amd"
   ]
  },
  {
   "cell_type": "markdown",
   "metadata": {},
   "source": [
    "A whole bunch of contracts can be qualified at the same time. A list of all the successfull ones is returned:"
   ]
  },
  {
   "cell_type": "code",
   "execution_count": 14,
   "metadata": {},
   "outputs": [
    {
     "name": "stderr",
     "output_type": "stream",
     "text": [
      "ERROR:ib_insync.wrapper:Error 200, reqId 11: No security definition has been found for the request\n",
      "ERROR:ib_insync.ib:Unknown contract: Stock(symbol='XXX', exchange='SMART', currency='USD')\n"
     ]
    }
   ],
   "source": [
    "qualContracts = ib.qualifyContracts(amd, intc, xxx, eurusd)\n",
    "\n",
    "assert intc in qualContracts\n",
    "assert xxx not in qualContracts"
   ]
  },
  {
   "cell_type": "markdown",
   "metadata": {},
   "source": [
    "There is also a new API function to request contracts that match a pattern:"
   ]
  },
  {
   "cell_type": "code",
   "execution_count": 15,
   "metadata": {},
   "outputs": [
    {
     "data": {
      "text/plain": [
       "[Contract(conId=172096099, symbol='INTELLECT', secType='STK', primaryExchange='NSE', currency='INR'),\n",
       " Contract(conId=270639, symbol='INTC', secType='STK', primaryExchange='NASDAQ.NMS', currency='USD'),\n",
       " Contract(conId=38709539, symbol='INTC', secType='STK', primaryExchange='MEXI', currency='MXN'),\n",
       " Contract(conId=12177196, symbol='INL', secType='STK', primaryExchange='FWB', currency='EUR'),\n",
       " Contract(conId=12178234, symbol='INTC', secType='STK', primaryExchange='EBS', currency='CHF'),\n",
       " Contract(conId=11463493, symbol='INTC', secType='STK', primaryExchange='AEB', currency='USD'),\n",
       " Contract(conId=8988636, symbol='4335', secType='STK', primaryExchange='SEHK', currency='HKD'),\n",
       " Contract(conId=165301734, symbol='601877', secType='STK', primaryExchange='SEHKNTL', currency='CNH'),\n",
       " Contract(conId=257311331, symbol='002050', secType='STK', primaryExchange='SEHKSZSE', currency='CNH'),\n",
       " Contract(conId=257311579, symbol='002711', secType='STK', primaryExchange='SEHKSZSE', currency='CNH'),\n",
       " Contract(conId=257312713, symbol='002421', secType='STK', primaryExchange='SEHKSZSE', currency='CNH'),\n",
       " Contract(conId=257311625, symbol='000816', secType='STK', primaryExchange='SEHKSZSE', currency='CNH'),\n",
       " Contract(conId=261730485, symbol='002402', secType='STK', primaryExchange='SEHKSZSE', currency='CNH'),\n",
       " Contract(conId=257312311, symbol='002031', secType='STK', primaryExchange='SEHKSZSE', currency='CNH'),\n",
       " Contract(conId=257312470, symbol='002097', secType='STK', primaryExchange='SEHKSZSE', currency='CNH'),\n",
       " Contract(conId=130614404, symbol='IQNT', secType='STK', primaryExchange='VALUE', currency='USD')]"
      ]
     },
     "execution_count": 15,
     "metadata": {},
     "output_type": "execute_result"
    }
   ],
   "source": [
    "matches = ib.reqMatchingSymbols('Intel')\n",
    "matchContracts = [m.contract for m in matches]\n",
    "\n",
    "matchContracts"
   ]
  },
  {
   "cell_type": "code",
   "execution_count": 16,
   "metadata": {
    "collapsed": true
   },
   "outputs": [],
   "source": [
    "assert intc in matchContracts"
   ]
  },
  {
   "cell_type": "code",
   "execution_count": null,
   "metadata": {
    "collapsed": true
   },
   "outputs": [],
   "source": []
  }
 ],
 "metadata": {
  "kernelspec": {
   "display_name": "Python 3",
   "language": "python",
   "name": "python3"
  },
  "language_info": {
   "codemirror_mode": {
    "name": "ipython",
    "version": 3
   },
   "file_extension": ".py",
   "mimetype": "text/x-python",
   "name": "python",
   "nbconvert_exporter": "python",
   "pygments_lexer": "ipython3",
   "version": "3.6.2"
  }
 },
 "nbformat": 4,
 "nbformat_minor": 2
}
